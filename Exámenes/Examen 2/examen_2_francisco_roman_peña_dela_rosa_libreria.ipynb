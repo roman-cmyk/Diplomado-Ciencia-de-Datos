{
 "cells": [
  {
   "cell_type": "markdown",
   "id": "08722fee",
   "metadata": {},
   "source": [
    "<h1 style=\"color:blue\"> IMPORTAR LIBRERIAS </h1>"
   ]
  },
  {
   "cell_type": "code",
   "execution_count": 3,
   "id": "fd924de1",
   "metadata": {
    "ExecuteTime": {
     "end_time": "2021-06-22T01:00:55.875643Z",
     "start_time": "2021-06-22T01:00:53.521770Z"
    }
   },
   "outputs": [
    {
     "data": {
      "text/html": [
       "        <script type=\"text/javascript\">\n",
       "        window.PlotlyConfig = {MathJaxConfig: 'local'};\n",
       "        if (window.MathJax) {MathJax.Hub.Config({SVG: {font: \"STIX-Web\"}});}\n",
       "        if (typeof require !== 'undefined') {\n",
       "        require.undef(\"plotly\");\n",
       "        requirejs.config({\n",
       "            paths: {\n",
       "                'plotly': ['https://cdn.plot.ly/plotly-latest.min']\n",
       "            }\n",
       "        });\n",
       "        require(['plotly'], function(Plotly) {\n",
       "            window._Plotly = Plotly;\n",
       "        });\n",
       "        }\n",
       "        </script>\n",
       "        "
      ]
     },
     "metadata": {},
     "output_type": "display_data"
    }
   ],
   "source": [
    "# Librerías\n",
    "import sys\n",
    "import warnings\n",
    "import pathlib\n",
    "from termcolor import colored\n",
    "\n",
    "# Librerías para manipulación de datos\n",
    "import pandas as pd\n",
    "import numpy as np\n",
    "from scipy import stats\n",
    "import re\n",
    "import unicodedata\n",
    "import nltk\n",
    "import unicodedata\n",
    "from random import sample\n",
    "from textblob import TextBlob\n",
    "from sklearn.feature_extraction.text import CountVectorizer\n",
    "from sklearn.impute import SimpleImputer\n",
    "from category_encoders import TargetEncoder\n",
    "from unidecode import unidecode\n",
    "from nltk.corpus import stopwords\n",
    "from nltk import FreqDist\n",
    "from statsmodels.stats.outliers_influence import variance_inflation_factor\n",
    "\n",
    "# Librerías para visualización de datos\n",
    "import plotly\n",
    "import plotly.graph_objects as go\n",
    "import plotly.express as px\n",
    "import cufflinks as cf\n",
    "import stylecloud\n",
    "from PIL import Image\n",
    "from plotly.offline import plot,iplot\n",
    "pd.options.plotting.backend = \"plotly\"\n",
    "cf.go_offline()\n",
    "pd.set_option(\"display.max_columns\",200)"
   ]
  },
  {
   "cell_type": "markdown",
   "id": "110a552e",
   "metadata": {},
   "source": [
    "<h1 style=\"color:blue\"> FUNCIONES PARA MANIPULACIÓN DE DATOS </h1>"
   ]
  },
  {
   "cell_type": "markdown",
   "id": "14171a1e",
   "metadata": {},
   "source": [
    "### FUNCIÓN PARA ETIQUETAR VARIABLES"
   ]
  },
  {
   "cell_type": "code",
   "execution_count": 2,
   "id": "bc678267",
   "metadata": {
    "ExecuteTime": {
     "end_time": "2021-06-18T18:12:25.946079Z",
     "start_time": "2021-06-18T18:12:25.933637Z"
    }
   },
   "outputs": [],
   "source": [
    "'''\n",
    "This function is used to rename columns\n",
    "according to its type.\n",
    "'''\n",
    "def label_columns(df,feats,prefix):\n",
    "\n",
    "    \"\"\"labels columns' names with the given prefix.\n",
    "\n",
    "    Parameters\n",
    "    ----------\n",
    "    df : pandas.DataFrame\n",
    "        Data frame whose columns will be labeled.\n",
    "    feats : list of strings\n",
    "        list with column names to label.\n",
    "    prefix : string\n",
    "        string prefix to add at the begining of coumn names.\n",
    "\n",
    "    Returns\n",
    "    -------\n",
    "    pandas.DataFrame\n",
    "        Returns the same dataframe from the input with column names labeled.\n",
    "    \"\"\"\n",
    "    feats_new=[prefix+x for x in feats]\n",
    "    df=df.rename(columns=dict(zip(feats,feats_new)))\n",
    "    return df"
   ]
  },
  {
   "cell_type": "markdown",
   "id": "3b54600f",
   "metadata": {},
   "source": [
    "### FUNCIÓN PARA EVALUAR COMPLETITUD"
   ]
  },
  {
   "cell_type": "code",
   "execution_count": 3,
   "id": "6bc1f973",
   "metadata": {
    "ExecuteTime": {
     "end_time": "2021-06-18T19:23:54.768124Z",
     "start_time": "2021-06-18T19:23:54.756804Z"
    }
   },
   "outputs": [],
   "source": [
    "def completitud(df):\n",
    "    \"\"\"Checks percentage of non missing values.\n",
    "\n",
    "    Parameters\n",
    "    ----------\n",
    "    df : pandas.DataFrame\n",
    "        Data\n",
    "\n",
    "    Returns\n",
    "    -------\n",
    "    pandas.DataFrame\n",
    "        dataframe with the columns of:\n",
    "            columna: column\n",
    "            total: total number of missings\n",
    "            completitud: percentage of non missing values\n",
    "    \"\"\"\n",
    "    comp=pd.DataFrame(df.isnull().sum())\n",
    "    comp.reset_index(inplace=True)\n",
    "    comp=comp.rename(columns={\"index\":\"columna\",0:\"total\"})\n",
    "    comp[\"completitud\"]=(1-comp[\"total\"]/df.shape[0])*100\n",
    "    comp=comp.sort_values(by=\"completitud\",ascending=True)\n",
    "    comp.reset_index(drop=True,inplace=True)\n",
    "    return comp"
   ]
  },
  {
   "cell_type": "markdown",
   "id": "3021909d",
   "metadata": {},
   "source": [
    "### FUNCIÓN PARA HOMOLOGAR 'SEXO'"
   ]
  },
  {
   "cell_type": "code",
   "execution_count": 6,
   "id": "42aafc20",
   "metadata": {
    "ExecuteTime": {
     "end_time": "2021-06-20T21:35:42.285927Z",
     "start_time": "2021-06-20T21:35:42.277685Z"
    }
   },
   "outputs": [],
   "source": [
    "def sex(texto):\n",
    "        if texto == 'M' or texto == 'F':\n",
    "            return texto\n",
    "        else:\n",
    "            return 'NaN'"
   ]
  },
  {
   "cell_type": "markdown",
   "id": "a7a04f14",
   "metadata": {},
   "source": [
    "### FUNCIÓN PARA GRÁFICO DE BARRAS - CONTEO"
   ]
  },
  {
   "cell_type": "code",
   "execution_count": 2,
   "id": "08a89a68",
   "metadata": {
    "ExecuteTime": {
     "end_time": "2021-06-22T00:55:40.294758Z",
     "start_time": "2021-06-22T00:55:40.290213Z"
    }
   },
   "outputs": [],
   "source": [
    "def my_bar_count(df,x,title=\"\",x_title=\"\",y_title=\"\"):\n",
    "    \"\"\" counts categories in the variable and generates plotly bar plot\n",
    "\n",
    "    Parameters\n",
    "    ----------\n",
    "    df : pandas.DataFrame\n",
    "        data frame to extract data from\n",
    "    col : [string\n",
    "        column from data frame to plot\n",
    "    title : str, optional\n",
    "        title of the plot, by default \"\"\n",
    "    x_title : str, optional\n",
    "        x axis title, by default \"\"\n",
    "    y_title : str, optional\n",
    "        y axis title, by default \"\"\n",
    "\n",
    "    Returns\n",
    "    -------\n",
    "    plotly figure\n",
    "    \"\"\"\n",
    "    layout = go.Layout(font_family=\"Droid Sans, monospace\",\n",
    "        font_color=\"black\",title_text=title,title_font_size=22,\n",
    "        xaxis= {\"title\": {\"text\": x_title,\"font\": {\"family\": 'Droid Sans, monospace',\"size\": 13, \"color\": '#0531a9'}}},\n",
    "        yaxis= {\"title\": {\"text\": y_title,\"font\": {\"family\": 'Droid Sans, monospace',\"size\": 13, \"color\": '#0531a9'}}},\n",
    "        title_font_family='Droid Sans Mono',title_font_color=\"#0531a9\",\n",
    "        template=\"plotly\", plot_bgcolor=\"rgb(219,229,239)\")\n",
    "    aux=pd.DataFrame(df[x].value_counts()).reset_index().rename(columns={\"index\":\"conteo\"})\n",
    "    fig=aux.iplot(kind='bar',x=\"conteo\",y=x,title=title,asFigure=True,barmode=\"overlay\",sortbars=True,color='#102568',layout=layout,width=5,annotations=True)\n",
    "    fig.update_layout(width=800)\n",
    "    fig.update_traces(marker_color='#358bdf',opacity=0.9)\n",
    "    return fig"
   ]
  },
  {
   "cell_type": "markdown",
   "id": "605f28b3",
   "metadata": {},
   "source": [
    "### FUNCIÓN PARA HISTOGRAMA"
   ]
  },
  {
   "cell_type": "code",
   "execution_count": 4,
   "id": "32c241c3",
   "metadata": {
    "ExecuteTime": {
     "end_time": "2021-06-22T01:03:10.687878Z",
     "start_time": "2021-06-22T01:03:10.672441Z"
    }
   },
   "outputs": [],
   "source": [
    "def my_histogram(df,col,bins,title=\"\",x_title=\"\",y_title=\"conteo\"):\n",
    "    \"\"\"generates plotly histogram\n",
    "\n",
    "    Parameters\n",
    "    ----------\n",
    "    df : pandas.DataFrame\n",
    "        data frame to extract data from\n",
    "    col : [string\n",
    "        column from data frame to plot\n",
    "    bins : int\n",
    "        number of bins for histogram\n",
    "    title : str, optional\n",
    "        title of the plot, by default \"\"\n",
    "    x_title : str, optional\n",
    "        x axis title, by default \"\"\n",
    "    y_title : str, optional\n",
    "        y axis title, by default \"conteo\"\n",
    "\n",
    "    Returns\n",
    "    -------\n",
    "    plotly figure\n",
    "    \"\"\"\n",
    "    layout = go.Layout(font_family=\"Courier New, monospace\",\n",
    "        font_color=\"black\",title_text=title,title_font_size=20,\n",
    "        xaxis= {\"title\": {\"text\": x_title,\"font\": {\"family\": 'Courier New, monospace',\"size\":12,\"color\": '#002e4d'}}},\n",
    "        yaxis= {\"title\": {\"text\": y_title,\"font\": {\"family\": 'Courier New, monospace',\"size\": 12, \"color\": '#002e4d'}}},               \n",
    "        title_font_family=\"Arial\",title_font_color=\"#002020\",\n",
    "        template=\"plotly_white\", plot_bgcolor=\"rgb(168,168,168)\")\n",
    "    fig=df[[col]].iplot(kind='histogram',x=col,bins=bins,title=title,asFigure=True,layout=layout,sortbars=True,linecolor='#2b2b2b')\n",
    "    fig.update_traces(marker_color='#045C8C',opacity=0.7)\n",
    "    return fig"
   ]
  },
  {
   "cell_type": "markdown",
   "id": "e5501082",
   "metadata": {},
   "source": [
    "### FUNCIÓN GRÁFICO DE CAJAS Y BIGOTES"
   ]
  },
  {
   "cell_type": "code",
   "execution_count": 5,
   "id": "9b304f8d",
   "metadata": {
    "ExecuteTime": {
     "end_time": "2021-06-22T01:06:42.221094Z",
     "start_time": "2021-06-22T01:06:42.205643Z"
    }
   },
   "outputs": [],
   "source": [
    "def my_box(df,columns,values,title=\"\",x_title=\"\",y_title=\"\"):\n",
    "    \"\"\" generates plotly box plot\n",
    "\n",
    "    Parameters\n",
    "    ----------\n",
    "    df : pandas.DataFrame\n",
    "        data frame to extract data from\n",
    "    columns : string\n",
    "        column that defines independent values (categories) of the plot\n",
    "    values  : strings\n",
    "        column that defines dependent values (values' distribution) of the plot\n",
    "    title : str, optional\n",
    "        title of the plot, by default \"\"\n",
    "    x_title : str, optional\n",
    "        x axis title, by default \"\"\n",
    "    y_title : str, optional\n",
    "        y axis title, by default \"\"\n",
    "\n",
    "    Returns\n",
    "    -------\n",
    "    plotly figure\n",
    "    \"\"\"\n",
    "    colors=['#4676d0','#19293c','#6faa9f','#ccceb1','#344647','#02160f','#779a7c','#070919','#2b2b2b','#121212']\n",
    "    layout = go.Layout(font_family=\"Courier New, monospace\",\n",
    "        font_color=\"black\",title_text=title,title_font_size=20,\n",
    "        xaxis= {\"title\": {\"text\": x_title,\"font\": {\"family\": 'Courier New, monospace',\"size\": 12,\"color\": '#002e4d'}}},\n",
    "        yaxis= {\"title\": {\"text\": y_title,\"font\": {\"family\": 'Courier New, monospace',\"size\": 12, \"color\": '#002e4d'}}},\n",
    "        title_font_family=\"Arial\",title_font_color=\"#002020\",\n",
    "        template=\"plotly_white\", plot_bgcolor=\"rgb(208,208,208)\")\n",
    "    fig=df.pivot(columns=columns,values=values).iplot(kind='box',title=title,asFigure=True,theme=\"white\",layout=layout,color=colors)\n",
    "    return fig"
   ]
  },
  {
   "cell_type": "markdown",
   "id": "5ae25ea2",
   "metadata": {},
   "source": [
    "### FUNCIÓN PARA GRÁFICO DE PASTEL"
   ]
  },
  {
   "cell_type": "code",
   "execution_count": 6,
   "id": "49ff2d1f",
   "metadata": {
    "ExecuteTime": {
     "end_time": "2021-06-22T01:41:37.528979Z",
     "start_time": "2021-06-22T01:41:37.517757Z"
    }
   },
   "outputs": [],
   "source": [
    "def my_pie_count(df,col,title=\"\"):\n",
    "    \"\"\" counts categories in the variable and generates plotly pie plot\n",
    "\n",
    "    Parameters\n",
    "    ----------\n",
    "    df : pandas.DataFrame\n",
    "        data frame to extract data from\n",
    "    col : string\n",
    "        column from data frame to plot\n",
    "    title : str, optional\n",
    "        title of the plot, by default \"\"\n",
    "\n",
    "    Returns\n",
    "    -------\n",
    "    plotly figure\n",
    "    \"\"\"\n",
    "    layout = go.Layout(template=\"plotly_white\")\n",
    "    colors=['#017664','#152228','#e7eee7','#102568','#d31717','#5747aa','#9b86ec','#9b86ec','#3c4b9b','#8f1b22','#121212']\n",
    "    aux=pd.DataFrame(df[col].value_counts()).reset_index().rename(columns={\"index\":\"conteo\"})\n",
    "    fig=aux.iplot(kind='pie',labels='conteo',values=col,title=title,asFigure=True,theme=\"white\")\n",
    "    fig.update_traces(textfont_size=14,opacity=0.65,\n",
    "                  marker=dict(colors=colors))\n",
    "    fig.update_layout(font_family=\"Courier New, monospace\",\n",
    "    font_color=\"blue\",title_text=title,title_font_size=23,title_font_family=\"Droid Sans\",title_font_color=\"#0531a9\",template=\"plotly_white\")\n",
    "    return fig"
   ]
  },
  {
   "cell_type": "markdown",
   "id": "7de5508f",
   "metadata": {},
   "source": [
    "### FUNCIÓN PARA IDENTIFICAR OUTLIERS"
   ]
  },
  {
   "cell_type": "code",
   "execution_count": 17,
   "id": "60b9b2c6",
   "metadata": {
    "ExecuteTime": {
     "end_time": "2021-06-22T21:55:13.788274Z",
     "start_time": "2021-06-22T21:55:13.774001Z"
    }
   },
   "outputs": [],
   "source": [
    "def OUTLIERS(data,cols):\n",
    "    \"\"\"searches for outliers with three different methods and returns dataframe with information of matched outliers.\n",
    "\n",
    "    Parameters\n",
    "    ----------\n",
    "    data : pandas.DataFrame\n",
    "        data frame to be analyzed for outliers.\n",
    "    cols : list of strings\n",
    "        columns to analyze for outliers\n",
    "\n",
    "    Returns\n",
    "    -------\n",
    "    pandas.DataFrame\n",
    "        Data frame with outlier information.\n",
    "    \"\"\"\n",
    "    df=data.copy()\n",
    "    results=pd.DataFrame()\n",
    "    data_iqr=df.copy()\n",
    "    data_per=df.copy()\n",
    "    total=[]\n",
    "    total_per=[]\n",
    "    total_z=[]\n",
    "    indices_=[]\n",
    "\n",
    "    for col in cols:\n",
    "        #IQR\n",
    "        Q1=df[col].quantile(0.25)\n",
    "        Q3=df[col].quantile(0.75)\n",
    "        IQR=Q3-Q1\n",
    "        INF=Q1-1.5*(IQR)\n",
    "        SUP=Q3+1.5*(IQR)\n",
    "    \n",
    "        \n",
    "        n_outliers=df[(df[col] < INF) | (df[col] > SUP)].shape[0]\n",
    "        total.append(n_outliers)\n",
    "        indices_iqr=list(df[(df[col] < INF) | (df[col] > SUP)].index)\n",
    "        #data_iqr=data_iqr[~(data_iqr[col] < INF) | (data_iqr[col] > SUP)].reset_index(drop=True)\n",
    "        \n",
    "        #Percentiles\n",
    "        INF_pe=np.percentile(df[col].dropna(),5)\n",
    "    \n",
    "        SUP_pe=np.percentile(df[col].dropna(),95)\n",
    "        n_outliers_per=df[(df[col] < INF_pe) | (df[col] > SUP_pe)].shape[0]\n",
    "        total_per.append(n_outliers_per)\n",
    "        indices_per=list(df[(df[col] < INF_pe) | (df[col] > SUP_pe)].index)\n",
    "        #data_per=data_per[~(data_per[col] < INF_pe) | (data_per[col] > SUP_pe)].reset_index(drop=True)\n",
    "        \n",
    "        #Z-Score\n",
    "        \n",
    "        z=np.abs(stats.zscore(df[col],nan_policy='omit'))\n",
    "        #df[f\"zscore_{col}\"]=abs((df[col] - df[col].mean())/df[col].std(ddof=0))\n",
    "        total_z.append(df[[col]][(z>=3)].shape[0])\n",
    "        indices_z=list(df[[col]][(z>=3)].index)\n",
    "        \n",
    "        indices_.append(aux_outliers(indices_iqr,indices_per,indices_z))\n",
    "        \n",
    "    results[\"features\"]=cols\n",
    "    results[\"n_outliers_IQR\"]=total\n",
    "    results[\"n_outliers_Percentil\"]=total_per\n",
    "    results[\"n_outliers_Z_Score\"]=total_z\n",
    "    results[\"n_outliers_IQR_%\"]=round((results[\"n_outliers_IQR\"]/df.shape[0])*100,2)\n",
    "    results[\"n_outliers_Percentil_%\"]=round((results[\"n_outliers_Percentil\"]/df.shape[0])*100,2)\n",
    "    results[\"n_outliers_Z_Score_%\"]=round((results[\"n_outliers_Z_Score\"]/df.shape[0])*100,2)\n",
    "    results[\"indices\"]=indices_\n",
    "    results[\"total_outliers\"]=results[\"indices\"].map(lambda x:len(x))\n",
    "    results[\"%_outliers\"]=results[\"indices\"].map(lambda x:round(((len(x)/df.shape[0])*100),2))\n",
    "    results=results[['features', 'n_outliers_IQR', 'n_outliers_Percentil',\n",
    "       'n_outliers_Z_Score', 'n_outliers_IQR_%', 'n_outliers_Percentil_%',\n",
    "       'n_outliers_Z_Score_%',  'total_outliers', '%_outliers','indices']]\n",
    "    return results"
   ]
  },
  {
   "cell_type": "code",
   "execution_count": 18,
   "id": "5400add3",
   "metadata": {
    "ExecuteTime": {
     "end_time": "2021-06-22T21:55:15.253918Z",
     "start_time": "2021-06-22T21:55:15.240764Z"
    }
   },
   "outputs": [],
   "source": [
    "def aux_outliers(a,b,c):\n",
    "    \"\"\"auxiliary function for the OUTLIERS function. It gets the conjunction of index sets obtained from different methods used in the OUTLIERS function.\n",
    "\n",
    "    Parameters\n",
    "    ----------\n",
    "    a : int list\n",
    "        list of indexes\n",
    "    b : int list\n",
    "        list of indexes\n",
    "    c : int list\n",
    "        list of indexes\n",
    "\n",
    "    Returns\n",
    "    -------\n",
    "    list\n",
    "        returns list with unique indexes\n",
    "    \"\"\"\n",
    "    a=set(a)\n",
    "    b=set(b)\n",
    "    c=set(c)\n",
    "    \n",
    "    a_=a.intersection(b)\n",
    "\n",
    "    b_=b.intersection(c)\n",
    "\n",
    "    c_=a.intersection(c)\n",
    "\n",
    "    outliers_index=list(set(list(a_)+list(b_)+list(c_)))\n",
    "    return outliers_index"
   ]
  },
  {
   "cell_type": "markdown",
   "id": "c7ab0d2c",
   "metadata": {},
   "source": [
    "### FUNCIÓN PARA HOMOLOGAR: TIPO DE RESIDENCIA"
   ]
  },
  {
   "cell_type": "code",
   "execution_count": 14,
   "id": "9ac95d26",
   "metadata": {
    "ExecuteTime": {
     "end_time": "2021-06-22T11:52:30.182853Z",
     "start_time": "2021-06-22T11:52:30.171061Z"
    }
   },
   "outputs": [],
   "source": [
    "def residence(string):\n",
    "        if string == 'O' or string == 'O ' or string == ' O' or string == 'o':\n",
    "            return 'O'\n",
    "        elif string == 'P' or string == 'p' or string == 'P ' or string == ' p' or string == ' p':\n",
    "            return 'P'\n",
    "        elif string == 'O' or string == 'O ' or string == 'o' or string == ' o':\n",
    "            return 'O'\n",
    "        elif string == 'C' or string == 'C ' or string == ' c' or string == 'c':\n",
    "            return 'C'\n",
    "        else:\n",
    "            return 'NaN'"
   ]
  },
  {
   "cell_type": "markdown",
   "id": "f565a3d4",
   "metadata": {},
   "source": [
    "### FUNCIÓN PARA HOMOLOGAR: MARITAL STATUS"
   ]
  },
  {
   "cell_type": "code",
   "execution_count": 16,
   "id": "ba95697c",
   "metadata": {
    "ExecuteTime": {
     "end_time": "2021-06-22T13:44:33.186559Z",
     "start_time": "2021-06-22T13:44:33.176406Z"
    }
   },
   "outputs": [],
   "source": [
    "def marital(string):\n",
    "        if string == 'S' or string == 'S ':\n",
    "            return 'S'\n",
    "        elif string == 'C' or string == 'C ':\n",
    "            return 'C'\n",
    "        elif string == 'O' or string == 'O ':\n",
    "            return 'O'\n",
    "        elif string == 'V' or string == 'V ':\n",
    "            return 'V'\n",
    "        elif string == 'D' or string == 'D ':\n",
    "            return 'D'\n",
    "        else:\n",
    "            return 'NaN'"
   ]
  },
  {
   "cell_type": "code",
   "execution_count": null,
   "id": "9090d01c",
   "metadata": {},
   "outputs": [],
   "source": []
  }
 ],
 "metadata": {
  "kernelspec": {
   "display_name": "Python 3",
   "language": "python",
   "name": "python3"
  },
  "language_info": {
   "codemirror_mode": {
    "name": "ipython",
    "version": 3
   },
   "file_extension": ".py",
   "mimetype": "text/x-python",
   "name": "python",
   "nbconvert_exporter": "python",
   "pygments_lexer": "ipython3",
   "version": "3.8.10"
  },
  "latex_envs": {
   "LaTeX_envs_menu_present": true,
   "autoclose": false,
   "autocomplete": true,
   "bibliofile": "biblio.bib",
   "cite_by": "apalike",
   "current_citInitial": 1,
   "eqLabelWithNumbers": true,
   "eqNumInitial": 1,
   "hotkeys": {
    "equation": "Ctrl-E",
    "itemize": "Ctrl-I"
   },
   "labels_anchors": false,
   "latex_user_defs": false,
   "report_style_numbering": false,
   "user_envs_cfg": false
  },
  "nbTranslate": {
   "displayLangs": [
    "*"
   ],
   "hotkey": "alt-t",
   "langInMainMenu": true,
   "sourceLang": "en",
   "targetLang": "fr",
   "useGoogleTranslate": true
  },
  "toc": {
   "base_numbering": 1,
   "nav_menu": {},
   "number_sections": true,
   "sideBar": true,
   "skip_h1_title": false,
   "title_cell": "Table of Contents",
   "title_sidebar": "Contents",
   "toc_cell": false,
   "toc_position": {},
   "toc_section_display": true,
   "toc_window_display": true
  },
  "varInspector": {
   "cols": {
    "lenName": 16,
    "lenType": 16,
    "lenVar": 40
   },
   "kernels_config": {
    "python": {
     "delete_cmd_postfix": "",
     "delete_cmd_prefix": "del ",
     "library": "var_list.py",
     "varRefreshCmd": "print(var_dic_list())"
    },
    "r": {
     "delete_cmd_postfix": ") ",
     "delete_cmd_prefix": "rm(",
     "library": "var_list.r",
     "varRefreshCmd": "cat(var_dic_list()) "
    }
   },
   "types_to_exclude": [
    "module",
    "function",
    "builtin_function_or_method",
    "instance",
    "_Feature"
   ],
   "window_display": false
  }
 },
 "nbformat": 4,
 "nbformat_minor": 5
}
