{
 "cells": [
  {
   "cell_type": "markdown",
   "id": "8b8b4233",
   "metadata": {
    "ExecuteTime": {
     "end_time": "2021-06-07T13:54:23.824991Z",
     "start_time": "2021-06-07T13:54:23.812280Z"
    }
   },
   "source": [
    "## **Functions**"
   ]
  },
  {
   "cell_type": "code",
   "execution_count": 2,
   "id": "e04a14cd",
   "metadata": {
    "ExecuteTime": {
     "end_time": "2021-06-07T13:56:17.312933Z",
     "start_time": "2021-06-07T13:56:17.296529Z"
    }
   },
   "outputs": [],
   "source": [
    "# This function is used to correct invalid month' names => 'v_mes_hechos'\n",
    "def correct_month(month):\n",
    "    if month == 'Diciiembre' or month == 'December' or month == 'Diciembre':\n",
    "        return 'Diciembre'\n",
    "    elif month == 'Maro' or month == 'March' or month == 'Marzo':\n",
    "        return 'Marzo'\n",
    "    elif month == 'Novembre' or month == 'Novimbre' or month == 'November' or month == 'Noviembre':\n",
    "        return 'Noviembre'\n",
    "    elif month == 'Septiemb' or month == 'September' or month == 'Septiembre':\n",
    "        return 'Septiembre'\n",
    "    elif month == 'Agossto' or month == 'Agosto-2017' or month == 'agosto3' or month == 'August' or month == 'Agosto':\n",
    "        return 'Agosto'\n",
    "    elif month == 'abrill' or month == 'April' or month == 'Aabril' or month == 'Abril':\n",
    "        return 'Abril'\n",
    "    elif month == 'Mayo-2018' or month == 'May' or month == 'Mayo':\n",
    "        return 'Mayo'\n",
    "    elif month == 'June' or month == 'Junio':\n",
    "        return 'Junio'\n",
    "    elif month == 'October' or month == 'Octubre':\n",
    "        return 'Octubre'\n",
    "    elif month == 'February' or month == 'Febrero-2015' or month == 'Febrero':\n",
    "        return 'Febrero'\n",
    "    elif month == 'July' or month == 'Julio' or month == 'Julio .':\n",
    "        return 'Julio'\n",
    "    elif month == 'January' or month == 'ENRO' or month == 'Enero':\n",
    "        return 'Enero'\n",
    "    else:\n",
    "        return 'Check'"
   ]
  },
  {
   "cell_type": "code",
   "execution_count": 4,
   "id": "68982fe3",
   "metadata": {
    "ExecuteTime": {
     "end_time": "2021-06-07T18:59:59.638317Z",
     "start_time": "2021-06-07T18:59:59.626727Z"
    }
   },
   "outputs": [],
   "source": [
    "# This function is used to correct invalid month' names => 'v_ao_hechos'\n",
    "def correct_ao_hechos(year):\n",
    "    if year == '-2017' or year == '-215' or year == '1800' or year == '321':\n",
    "        return '2017'\n",
    "    elif year == '-2016' or year == '1258' or year == '2058' or year == '235' or year == '19000' or year == 'Junio':\n",
    "        return '2016'\n",
    "    elif year == '2023':\n",
    "        return '2015'\n",
    "    elif year == 'Febrero':\n",
    "        return '2018'\n",
    "    else:\n",
    "        return year"
   ]
  },
  {
   "cell_type": "code",
   "execution_count": 3,
   "id": "3f6a6c78",
   "metadata": {
    "ExecuteTime": {
     "end_time": "2021-06-08T00:38:18.807902Z",
     "start_time": "2021-06-08T00:38:18.799734Z"
    }
   },
   "outputs": [],
   "source": [
    "# This functions is used to validate 'lat' & 'lng' values\n",
    "    ## Latitude must be a number between -90 and 90\n",
    "    ## Longitude must a number between -180 and 180\n",
    "def lng_val(value):\n",
    "    try:\n",
    "        if -180<=value<=+180:\n",
    "            return value\n",
    "        else:\n",
    "            return 'Incorrect'\n",
    "    except:\n",
    "        value"
   ]
  },
  {
   "cell_type": "code",
   "execution_count": 4,
   "id": "a2bc7848",
   "metadata": {
    "ExecuteTime": {
     "end_time": "2021-06-08T00:38:19.336178Z",
     "start_time": "2021-06-08T00:38:19.327384Z"
    }
   },
   "outputs": [],
   "source": [
    "# This functions is used to validate 'lat' & 'lng' values\n",
    "    ## Latitude must be a number between -90 and 90\n",
    "    ## Longitude must a number between -180 and 180\n",
    "def lat_val(value):\n",
    "    try:\n",
    "        if -90<=value<=+90:\n",
    "            return value\n",
    "        else:\n",
    "            return 'Incorrect'\n",
    "    except:\n",
    "        value"
   ]
  },
  {
   "cell_type": "code",
   "execution_count": null,
   "id": "2abad9a3",
   "metadata": {},
   "outputs": [],
   "source": [
    "# This function is used to replace invalid letters in text columns => 't_delito' column\n",
    "def replace_words(text):\n",
    "    try:\n",
    "        text = text.replace('DAÃO','DAÑO').replace('TRÃNSITO','TRANSITO').replace('USURPACIÃN','USURPACION')\n",
    "        text = text.replace('PÃBLICO','PUBLICO').replace('POSESIÃN','POSESION').replace('EXTORSIÃN','EXTORSION')\n",
    "        text = text.replace('VEHÃCULO','VEHICULO').replace('COMUNICACIÃN','COMUNICACION').replace('AUTOBÃS','AUTOBUS')\n",
    "        text = text.replace('FORÃNEO','FORANEO').replace('PÃBLICA','PUBLICA').replace('EXPLOTACIÃN','EXPLOTACION')\n",
    "        text = text.replace('REGULACIÃN','REGULACION').replace('GESTIÃN','GESTION').replace('CONTAMINACIÃN','CONTAMINACION')\n",
    "        text = text.replace('INFORMACIÃN','INFORMACION').replace('2015-09-15 00:00:00','NaN').replace('2017-10-09 08:00:00','NaN')\n",
    "        text = text.replace('2016-02-27 22:30:00','NaN').replace('EXTORSIÃN','EXTORSION').replace('2016-06-14 16:30:00','NaN')\n",
    "        return text\n",
    "    except:\n",
    "        return 'Check'"
   ]
  },
  {
   "cell_type": "code",
   "execution_count": null,
   "id": "a8ef10f4",
   "metadata": {},
   "outputs": [],
   "source": [
    "# This function is used to replace invalid letters in text columns => 't_categoria_delito' column\n",
    "def replace_words_catdelito(text):\n",
    "    try:\n",
    "        text = text.replace('VEHÃCULO','VEHICULO').replace('VÃA','VIA').replace('PÃBLICA','PUBLICA')\n",
    "        text = text.replace('VIOLACIÃN','VIOLACION').replace('HABITACIÃN','HABITACION')\n",
    "        return text\n",
    "    except:\n",
    "        return 'Check'"
   ]
  },
  {
   "cell_type": "code",
   "execution_count": 5,
   "id": "f43a6e71",
   "metadata": {
    "ExecuteTime": {
     "end_time": "2021-06-08T12:37:02.819113Z",
     "start_time": "2021-06-08T12:37:02.816306Z"
    }
   },
   "outputs": [],
   "source": [
    "# This function is used to correct invalid data entries in 't_colonia_hechos' => accented characters\n",
    "# With the same purpose like functions described above (e.g. AMPLIACIÃN)\n",
    "\n",
    "def accents_colonia_hechos(text):\n",
    "\n",
    "    try:\n",
    "        text = unicode(text, 'utf-8')\n",
    "    except NameError:\n",
    "        pass\n",
    "\n",
    "    text = unicodedata.normalize('NFD', text)\\\n",
    "           .encode('ascii', 'ignore')\\\n",
    "           .decode(\"utf-8\")\n",
    "\n",
    "    return str(text)"
   ]
  },
  {
   "cell_type": "code",
   "execution_count": 6,
   "id": "b3337596",
   "metadata": {
    "ExecuteTime": {
     "end_time": "2021-06-08T20:37:32.784441Z",
     "start_time": "2021-06-08T20:37:32.759168Z"
    }
   },
   "outputs": [],
   "source": [
    "# This function is used to correct invalid data entries in 't_colonia_hechos' column\n",
    "def replace_words_colonia_hechos(text):\n",
    "    try:\n",
    "        text = text.replace('SECCIAN','SECCION').replace('HIPADROMO','HIPODROMO').replace('ARSULA','URSULA')\n",
    "        text = text.replace('AMPLIACIAN','AMPLIACION').replace('MAXICO','MEXICO').replace('CONSTITUCIAN','CONSTITUCION')\n",
    "        text = text.replace('PEAON','PEÑON').replace('SIMAN','SIMON').replace('MARTAN','MARTIN').replace('ESCANDAN','ESCANDON')\n",
    "        text = text.replace('HAROES','HEROES').replace('EDUCACIAN','EDUCACION').replace('ANDRAS','ANDRES').replace('PEAAS','PEÑA')\n",
    "        text = text.replace('MARAA','MARIA').replace('RAO','RIO').replace('JERANIMO','JERONIMO').replace('GAMEZ','GOMEZ')\n",
    "        text = text.replace('MARTAN','MARTIN').replace('AMPLIACIAN0','AMPLIACION').replace('HAROES','HEROES')\n",
    "        text = text.replace('RENOVACIAN','RENOVACION').replace('DOMANGUEZ','DOMINGUEZ').replace('SIMAN','SIMON')\n",
    "        text = text.replace('BOLAVAR','BOLIVAR').replace('IRRIGACIAN','IRRIGACION').replace('PARAASO','PARAISO')\n",
    "        text = text.replace('LIBERACIAN','LIBERACION').replace('POLATICA','POLITICA').replace('CLAVERAA','CLAVERA')\n",
    "        text = text.replace('BAAOS','BAÑOS').replace('PEAAN','PEÑA').replace('MARTANEZ','MARTINEZ').replace('JERANIMO','JERONIMO')\n",
    "        text = text.replace('CONCEPCIAN','CONCEPCION').replace('BARTOLOMA','BARTOLOME').replace('NIAOS','NIÑOS').replace('GAMEZ','GOMEZ')\n",
    "        text = text.replace('SIMAN','SIMON').replace('AMARICA','AMERICA').replace('AVIACIAN','AVIACION').replace('DOMANGUEZ','DOMINGUEZ')\n",
    "        text = text.replace('JESAS','JESUS').replace('AAO','AÑO').replace('CONSTITUCIAN','CONSTITUCION').replace('SECCIAN','SECCION')\n",
    "        text = text.replace('PEAA','PEÑA').replace('REFINERAA','REFINERIA').replace('AMPLIACIAN','AMPLIACION').replace('BOLAVAR','BOLIVAR')\n",
    "        text = text.replace('MONTAAA','MONTAÑA').replace('LIBERACIAN','LIBERACION').replace('HAROES','HEROES').replace('MAXICO','MEXICO')\n",
    "        text = text.replace('JESAS','JESUS').replace('SIMAN','SIMON').replace('ELAAS','ELIAS').replace('NIAO','NIÑO').replace('ARAAA','ARENA')\n",
    "        text = text.replace('M?XICO','MEXICO').replace('RINCAN','RINCON').replace('ESCANDAN','ESCANDON').replace('TAXQUEAA','TAXQUEÑA')\n",
    "        text = text.replace('MARAA','MARIA').replace('JOSA','JOSE').replace('PEAON','PEATON').replace('AGRACOLA','AGRICOLA').replace('HAROES','HEROES')\n",
    "        text = text.replace('AMPLIACIAN','AMPLIACION').replace('ESCANDAN','ESCANDON').replace('JARDAN','JARDIN').replace('TAXQUEAA','TAXQUEÑA')\n",
    "        text = text.replace('AGRACOLA','AGRICOLA').replace('COMPAAAA','CAÑADA').replace('LOTERAA','LOTERIA').replace('RINCAN','RINCON')\n",
    "        text = text.replace('PEAA','PEÑA').replace('PERIFARICO','PERIFERICO').replace('PEQUE?A','PEQUEÑA').replace('ANDRAS','ANDRES')\n",
    "        text = text.replace('FORTAN','FORTIN').replace('JAZMAN','JAZMIN').replace('ESPAAA','ESPAÑA').replace('CAAADA','CASADA')\n",
    "        text = text.replace('MARAA','MARIA').replace('ECHEVERRAA','ECHEVERRIA').replace('ERMITAAO','ERMITAÑO').replace('REFINERAA','REFINERIA')\n",
    "        return text\n",
    "    except:\n",
    "        return 'Check'"
   ]
  },
  {
   "cell_type": "code",
   "execution_count": 7,
   "id": "3b14ddef",
   "metadata": {
    "ExecuteTime": {
     "end_time": "2021-06-09T12:17:08.610077Z",
     "start_time": "2021-06-09T12:17:08.604161Z"
    }
   },
   "outputs": [],
   "source": [
    "# This function is used to clean invalid data entries in 'd_fecha_hechos' column\n",
    "def clean_fecha_hechos(text):\n",
    "    try:\n",
    "        text = text.replace('lunes','').replace('martes','').replace('miércoles','').replace('jueves','').replace('viernes','')\n",
    "        text = text.replace('sábado','').replace('sabado','').replace('domingo','').replace('|','').replace('()','').replace('de','')\n",
    "        text = text.replace('enero','-1-').replace('febrero','-2-').replace('marzo','-3-').replace('abril','-4-')\n",
    "        text = text.replace('mayo','-5-').replace('junio','-6-').replace('julio','-7-').replace('agosto','-8-')\n",
    "        text = text.replace('septiembre','-9-').replace('octubre','-10-').replace('noviembre','-11-').replace('diciembre','-12-')\n",
    "        return text\n",
    "    except:\n",
    "        return 'Check'"
   ]
  },
  {
   "cell_type": "code",
   "execution_count": null,
   "id": "6366d2fc",
   "metadata": {},
   "outputs": [],
   "source": [
    "# This function is used to replace invalid letters in text columns => 't_categoria_delito' column\n",
    "def replace_words_fiscalia(text):\n",
    "    try:\n",
    "        text = text.replace('INVESTIGACIÃN','INVESTIGACION').replace('JUÃREZ','JUAREZ').replace('COYOACÃN','COYOACAN')\n",
    "        text = text.replace('ÃLVARO','ALVARO').replace('OBREGÃN','OBREGON').replace('ATENCIÃN','ATENCION').replace('NIÃOS','NIÑOS')\n",
    "        text = text.replace('NIÃAS','NIÑAS').replace('ATENCIÃN','ATENCION').replace('PROTECCIÃN','PROTECCION').replace('VÃCTIMAS','VICTIMAS')\n",
    "        text = text.replace('BÃSQUEDA','BUSQUEDA').replace('LOCALIZACIÃN','LOCALIZACION').replace('DIRECCIÃN','DIRECCION')\n",
    "        return text\n",
    "    except:\n",
    "        return 'Check'"
   ]
  },
  {
   "cell_type": "code",
   "execution_count": null,
   "id": "0894ea32",
   "metadata": {},
   "outputs": [],
   "source": [
    "# This function is used to know if weekend or not: 1 => YES and 0 => NO\n",
    "def weekend(day):\n",
    "    if day == 'Friday' or day == 'Saturday' or day == 'Sunday':\n",
    "        return '1'\n",
    "    else:\n",
    "        return '0'"
   ]
  },
  {
   "cell_type": "code",
   "execution_count": null,
   "id": "b25b3b1a",
   "metadata": {},
   "outputs": [],
   "source": [
    "def quarter(month):\n",
    "    if month == 'Enero' or month == 'Febrero' or month == 'Marzo':\n",
    "        return 'Q1'\n",
    "    elif month == 'Abril' or month == 'Mayo' or month == 'Junio':\n",
    "        return 'Q2'\n",
    "    elif month == 'Julio' or month == 'Agosto' or month == 'Septiembre':\n",
    "        return 'Q3'\n",
    "    elif month == 'Octubre' or month == 'Noviembre' or month == 'Diciembre':\n",
    "        return 'Q4'\n",
    "    else:\n",
    "        return 'Check'"
   ]
  },
  {
   "cell_type": "code",
   "execution_count": null,
   "id": "1ca9983b",
   "metadata": {},
   "outputs": [],
   "source": [
    "# This function is used to normalice \"t_alcaldia_hechos\"\n",
    "def norm_delegacion(delegacion):\n",
    "    if delegacion == 'CUAUHTEMOC' or delegacion == 'MIGUEL HIDALGO' or delegacion == 'ALVARO OBREGON' or delegacion == 'CUAJIMALPA DE MORELOS' or delegacion == 'AZCAPOTZALCO':\n",
    "        return 'Zona Centro Poniente'\n",
    "    elif delegacion == 'BENITO JUAREZ' or delegacion == 'COYOACAN' or delegacion == 'TLALPAN' or delegacion == 'LA MAGDALENA CONTRERAS':\n",
    "        return 'Zona Sur'\n",
    "    elif delegacion == 'GUSTAVO A MADERO' or delegacion == 'VENUSTIANO CARRANZA' or delegacion == 'IZTACALCO':\n",
    "        return 'Zona Norte'\n",
    "    elif delegacion == 'IZTAPALAPA' or delegacion == 'TLAHUAC' or delegacion == 'XOCHIMILCO' or delegacion == 'MILPA ALTA':\n",
    "        return 'Zona Oriente'\n",
    "    else:\n",
    "        return 'NaN'"
   ]
  },
  {
   "cell_type": "code",
   "execution_count": null,
   "id": "7c58dd5d",
   "metadata": {},
   "outputs": [],
   "source": [
    "# This function is used to assign new colum: \"categoria_delito_norm\"\n",
    "# whih belongs to 't_categoria_delito' but normalized\n",
    "def cat_delito_norm(value):\n",
    "    if 11<=value<=15:\n",
    "        return 'Delito de Alto Impacto'\n",
    "    elif 6<=value<=10:\n",
    "        return 'Delito de Medio Impacto'\n",
    "    elif 0<=value<=5:\n",
    "        return 'Delito de Bajo Impacto'\n",
    "    else:\n",
    "        return 'Check'"
   ]
  },
  {
   "cell_type": "code",
   "execution_count": null,
   "id": "83ad6950",
   "metadata": {},
   "outputs": [],
   "source": [
    "# Function used to get completeness values\n",
    "# The input/argument is --> df\n",
    "def completeness(dataframe):\n",
    "    comp = pd.DataFrame(dataframe.isnull().sum())\n",
    "    comp.reset_index(inplace = True)\n",
    "    comp = comp.rename(columns = {'index':'column', 0:'total'})\n",
    "    comp['completeness'] = (1 - comp['total']/dataframe.shape[0])*100\n",
    "    comp = comp.sort_values(by = 'completeness', ascending = True)\n",
    "    comp.reset_index(drop = True, inplace = True)\n",
    "    return comp"
   ]
  }
 ],
 "metadata": {
  "kernelspec": {
   "display_name": "Python 3",
   "language": "python",
   "name": "python3"
  },
  "language_info": {
   "codemirror_mode": {
    "name": "ipython",
    "version": 3
   },
   "file_extension": ".py",
   "mimetype": "text/x-python",
   "name": "python",
   "nbconvert_exporter": "python",
   "pygments_lexer": "ipython3",
   "version": "3.8.10"
  },
  "latex_envs": {
   "LaTeX_envs_menu_present": true,
   "autoclose": false,
   "autocomplete": true,
   "bibliofile": "biblio.bib",
   "cite_by": "apalike",
   "current_citInitial": 1,
   "eqLabelWithNumbers": true,
   "eqNumInitial": 1,
   "hotkeys": {
    "equation": "Ctrl-E",
    "itemize": "Ctrl-I"
   },
   "labels_anchors": false,
   "latex_user_defs": false,
   "report_style_numbering": false,
   "user_envs_cfg": false
  },
  "nbTranslate": {
   "displayLangs": [
    "*"
   ],
   "hotkey": "alt-t",
   "langInMainMenu": true,
   "sourceLang": "en",
   "targetLang": "fr",
   "useGoogleTranslate": true
  },
  "toc": {
   "base_numbering": 1,
   "nav_menu": {},
   "number_sections": true,
   "sideBar": true,
   "skip_h1_title": false,
   "title_cell": "Table of Contents",
   "title_sidebar": "Contents",
   "toc_cell": false,
   "toc_position": {},
   "toc_section_display": true,
   "toc_window_display": false
  },
  "varInspector": {
   "cols": {
    "lenName": 16,
    "lenType": 16,
    "lenVar": 40
   },
   "kernels_config": {
    "python": {
     "delete_cmd_postfix": "",
     "delete_cmd_prefix": "del ",
     "library": "var_list.py",
     "varRefreshCmd": "print(var_dic_list())"
    },
    "r": {
     "delete_cmd_postfix": ") ",
     "delete_cmd_prefix": "rm(",
     "library": "var_list.r",
     "varRefreshCmd": "cat(var_dic_list()) "
    }
   },
   "types_to_exclude": [
    "module",
    "function",
    "builtin_function_or_method",
    "instance",
    "_Feature"
   ],
   "window_display": false
  }
 },
 "nbformat": 4,
 "nbformat_minor": 5
}
